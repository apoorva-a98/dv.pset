{
 "cells": [
  {
   "cell_type": "code",
   "execution_count": null,
   "metadata": {},
   "outputs": [],
   "source": [
    "items=input().split(' ')\n",
    "A=[int(i) for i in items]\n",
    "x=int(input(\"enter a number\"))\n",
    "\n",
    "def indicator(B,y):\n",
    "    flag==0\n",
    "    for i in B:\n",
    "        if y==i:\n",
    "            flag==1\n",
    "            print(flag)\n",
    "            break\n",
    "    if flag==0:\n",
    "        print(flag)\n"
   ]
  }
 ],
 "metadata": {
  "kernelspec": {
   "display_name": "Python 3",
   "language": "python",
   "name": "python3"
  },
  "language_info": {
   "codemirror_mode": {
    "name": "ipython",
    "version": 3
   },
   "file_extension": ".py",
   "mimetype": "text/x-python",
   "name": "python",
   "nbconvert_exporter": "python",
   "pygments_lexer": "ipython3",
   "version": "3.6.4"
  }
 },
 "nbformat": 4,
 "nbformat_minor": 2
}
