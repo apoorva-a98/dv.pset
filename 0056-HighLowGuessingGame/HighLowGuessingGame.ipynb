{
 "cells": [
  {
   "cell_type": "code",
   "execution_count": 1,
   "metadata": {},
   "outputs": [],
   "source": [
    "import random"
   ]
  },
  {
   "cell_type": "code",
   "execution_count": 2,
   "metadata": {},
   "outputs": [
    {
     "name": "stdout",
     "output_type": "stream",
     "text": [
      "enter the range6\n"
     ]
    }
   ],
   "source": [
    "x=int(input(\"enter the range\"))\n",
    "y=int(random.uniform(0,x))"
   ]
  },
  {
   "cell_type": "code",
   "execution_count": null,
   "metadata": {},
   "outputs": [
    {
     "name": "stdout",
     "output_type": "stream",
     "text": [
      "min= 0 max= 6\n"
     ]
    }
   ],
   "source": [
    "i=-1\n",
    "min=0\n",
    "max=x\n",
    "while i!=y:\n",
    "    print(\"min=\",min,\"max=\",max)\n",
    "    i=int(input(\"guess number between\"))\n",
    "    if i>y:\n",
    "        max=i-1\n",
    "        print(\"high\")\n",
    "    else:\n",
    "        min=i+1\n",
    "        print(\"low\")\n",
    "if i==y:\n",
    "    print(\"you've guessed it!\")"
   ]
  },
  {
   "cell_type": "code",
   "execution_count": null,
   "metadata": {},
   "outputs": [],
   "source": []
  }
 ],
 "metadata": {
  "kernelspec": {
   "display_name": "Python 3",
   "language": "python",
   "name": "python3"
  },
  "language_info": {
   "codemirror_mode": {
    "name": "ipython",
    "version": 3
   },
   "file_extension": ".py",
   "mimetype": "text/x-python",
   "name": "python",
   "nbconvert_exporter": "python",
   "pygments_lexer": "ipython3",
   "version": "3.6.4"
  }
 },
 "nbformat": 4,
 "nbformat_minor": 2
}
