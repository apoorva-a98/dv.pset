{
 "cells": [
  {
   "cell_type": "code",
   "execution_count": 1,
   "metadata": {},
   "outputs": [
    {
     "name": "stdout",
     "output_type": "stream",
     "text": [
      "give number 4\n",
      "\n",
      "\n",
      "*\n",
      "\n",
      "**\n",
      "\n",
      "**\n",
      "\n",
      "*\n",
      "\n",
      "\n",
      "\n",
      "\n",
      "\n"
     ]
    }
   ],
   "source": [
    "x=int(input(\"give number \"))\n",
    "if(x%2==0):\n",
    "    for m in range (0,int(x/2)+1,1):\n",
    "        for n in range (0,m,1):\n",
    "            print(\"*\",end=\"\")\n",
    "        print(\"\\n\")\n",
    "else:\n",
    "    for m in range (0,int(x/2)+2,1):\n",
    "        for n in range (0,m,1):\n",
    "            print(\"*\",end=\"\")\n",
    "        print(\"\\n\")\n",
    "for m in range (int(x/2)+1,0,-1):\n",
    "    for n in range (1, m, 1):\n",
    "        print(\"*\",end=\"\")\n",
    "    print(\"\\n\")\n",
    "print(\"\\n\")\n"
   ]
  },
  {
   "cell_type": "code",
   "execution_count": null,
   "metadata": {},
   "outputs": [],
   "source": []
  }
 ],
 "metadata": {
  "kernelspec": {
   "display_name": "Python 3",
   "language": "python",
   "name": "python3"
  },
  "language_info": {
   "codemirror_mode": {
    "name": "ipython",
    "version": 3
   },
   "file_extension": ".py",
   "mimetype": "text/x-python",
   "name": "python",
   "nbconvert_exporter": "python",
   "pygments_lexer": "ipython3",
   "version": "3.6.4"
  }
 },
 "nbformat": 4,
 "nbformat_minor": 2
}
