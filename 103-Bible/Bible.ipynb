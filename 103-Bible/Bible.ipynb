{
 "cells": [
  {
   "cell_type": "code",
   "execution_count": 17,
   "metadata": {},
   "outputs": [],
   "source": [
    "import operator\n",
    "import numpy as np\n",
    "import matplotlib.pyplot as plt\n",
    "from matplotlib.pyplot import figure"
   ]
  },
  {
   "cell_type": "code",
   "execution_count": 18,
   "metadata": {},
   "outputs": [],
   "source": [
    "name_file=open('bible.txt','r')\n",
    "items=name_file.read()\n",
    "avoid=[' ','.','?','!','@','#','$','%','^','&','*','(',')','-','_','=','+','[',']','|',\"\\n\",';',':','<','>','/',',' ]"
   ]
  },
  {
   "cell_type": "code",
   "execution_count": 19,
   "metadata": {},
   "outputs": [],
   "source": [
    "def tokenify(s):\n",
    "    s=s.lower()\n",
    "    buff = ''\n",
    "    words=[]\n",
    "\n",
    "    for i in s:\n",
    "        if i in avoid:\n",
    "            if buff != '':\n",
    "                words.append(buff)\n",
    "            buff = ''\n",
    "        elif (buff is not None):\n",
    "            buff += i\n",
    "    if buff is not None:\n",
    "        words.append(buff)\n",
    "        buff=''\n",
    "    return words"
   ]
  },
  {
   "cell_type": "code",
   "execution_count": 20,
   "metadata": {},
   "outputs": [],
   "source": [
    "def countList(K):\n",
    "    K.sort()\n",
    "    #print (K)\n",
    "    A={}\n",
    "    i=0\n",
    "    while(len(K)>0):\n",
    "        count=1\n",
    "        j=1\n",
    "        while(j<len(K) and K[i]==K[j]):\n",
    "            count=count+1\n",
    "            K.pop(j)\n",
    "            #print (A)\n",
    "        A[K[i]]=count\n",
    "        #A.append(count)\n",
    "        #B.append(K[i])\n",
    "        K.pop(i)\n",
    "        #print(len(K))\n",
    "        #print(K[i],K[j],count,limit)\n",
    "        count=1\n",
    "    print(A)\n",
    "    \n",
    "    #A = sorted(A.items(), reverse=True)\n",
    "    return A"
   ]
  },
  {
   "cell_type": "code",
   "execution_count": null,
   "metadata": {},
   "outputs": [],
   "source": [
    "B=countList(tokenify(items))"
   ]
  },
  {
   "cell_type": "code",
   "execution_count": null,
   "metadata": {},
   "outputs": [],
   "source": [
    "print(B)"
   ]
  },
  {
   "cell_type": "code",
   "execution_count": null,
   "metadata": {},
   "outputs": [],
   "source": [
    "words = list(B.keys())\n",
    "count = list(B.values())\n",
    "\n",
    "plt.figure(figsize=(20,0))\n",
    "plt.bar(range(len(B)),count,tick_label=words)\n",
    "plt.show()"
   ]
  },
  {
   "cell_type": "code",
   "execution_count": null,
   "metadata": {},
   "outputs": [],
   "source": []
  },
  {
   "cell_type": "code",
   "execution_count": null,
   "metadata": {},
   "outputs": [],
   "source": []
  }
 ],
 "metadata": {
  "kernelspec": {
   "display_name": "Python 3",
   "language": "python",
   "name": "python3"
  },
  "language_info": {
   "codemirror_mode": {
    "name": "ipython",
    "version": 3
   },
   "file_extension": ".py",
   "mimetype": "text/x-python",
   "name": "python",
   "nbconvert_exporter": "python",
   "pygments_lexer": "ipython3",
   "version": "3.6.4"
  }
 },
 "nbformat": 4,
 "nbformat_minor": 2
}
