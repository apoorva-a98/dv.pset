{
 "cells": [
  {
   "cell_type": "code",
   "execution_count": 79,
   "metadata": {},
   "outputs": [],
   "source": [
    "import operator\n",
    "import numpy as np\n",
    "import matplotlib.pyplot as plt"
   ]
  },
  {
   "cell_type": "code",
   "execution_count": 80,
   "metadata": {},
   "outputs": [],
   "source": [
    "H=['and','and','and','to','sdjb','sdg','sdn','to','to','to','to','to','to','to','to','to','to']"
   ]
  },
  {
   "cell_type": "code",
   "execution_count": 81,
   "metadata": {},
   "outputs": [],
   "source": [
    "def countList(K):\n",
    "    K.sort()\n",
    "    #print (K)\n",
    "    A={}\n",
    "    i=0\n",
    "    while(len(K)>0):\n",
    "        count=1\n",
    "        j=1\n",
    "        while(j<len(K) and K[i]==K[j]):\n",
    "            count=count+1\n",
    "            K.pop(j)\n",
    "            #print (A)\n",
    "        A[K[i]]=count\n",
    "        #A.append(count)\n",
    "        #B.append(K[i])\n",
    "        K.pop(i)\n",
    "        #print(len(K))\n",
    "        #print(K[i],K[j],count,limit)\n",
    "        count=1\n",
    "    print(A)\n",
    "    \n",
    "    #A = sorted(A.items(), key=operator.itemgetter(1), reverse=True)\n",
    "    return A"
   ]
  },
  {
   "cell_type": "code",
   "execution_count": 82,
   "metadata": {},
   "outputs": [
    {
     "name": "stdout",
     "output_type": "stream",
     "text": [
      "{'and': 3, 'sdg': 1, 'sdjb': 1, 'sdn': 1, 'to': 11}\n"
     ]
    }
   ],
   "source": [
    "B=countList(H)"
   ]
  },
  {
   "cell_type": "code",
   "execution_count": 83,
   "metadata": {},
   "outputs": [
    {
     "name": "stdout",
     "output_type": "stream",
     "text": [
      "{'and': 3, 'sdg': 1, 'sdjb': 1, 'sdn': 1, 'to': 11}\n"
     ]
    }
   ],
   "source": [
    "print(B)"
   ]
  },
  {
   "cell_type": "code",
   "execution_count": 84,
   "metadata": {},
   "outputs": [
    {
     "data": {
      "image/png": "[encoded data removed]",
      "text/plain": [
       "<Figure size 432x288 with 1 Axes>"
      ]
     },
     "metadata": {},
     "output_type": "display_data"
    }
   ],
   "source": [
    "words = list(B.keys())\n",
    "count = list(B.values())\n",
    "\n",
    "plt.bar(range(len(B)),count,tick_label=words)\n",
    "plt.show()"
   ]
  },
  {
   "cell_type": "code",
   "execution_count": null,
   "metadata": {},
   "outputs": [],
   "source": []
  },
  {
   "cell_type": "code",
   "execution_count": null,
   "metadata": {},
   "outputs": [],
   "source": []
  }
 ],
 "metadata": {
  "kernelspec": {
   "display_name": "Python 3",
   "language": "python",
   "name": "python3"
  },
  "language_info": {
   "codemirror_mode": {
    "name": "ipython",
    "version": 3
   },
   "file_extension": ".py",
   "mimetype": "text/x-python",
   "name": "python",
   "nbconvert_exporter": "python",
   "pygments_lexer": "ipython3",
   "version": "3.6.4"
  }
 },
 "nbformat": 4,
 "nbformat_minor": 2
}
