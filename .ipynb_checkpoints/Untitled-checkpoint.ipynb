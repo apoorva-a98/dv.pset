{
 "cells": [
  {
   "cell_type": "code",
   "execution_count": null,
   "metadata": {},
   "outputs": [],
   "source": [
    "u=int(input(\"Enter no of nows\"))\n",
    "v=int(input(\"Enter no of columns\"))\n",
    "\n",
    "def create_matrix(x,y):\n",
    "    P=[]\n",
    "    print(\"enter list of\",x*y)\n",
    "    items=input().split(' ')\n",
    "    B=[int(i) for i in items]\n",
    "\n",
    "    n=0\n",
    "    for i in range(x):\n",
    "        M=[]\n",
    "        for j in range(y):\n",
    "            M.append(B[n])\n",
    "            n=n+1\n",
    "        P.append(M)\n",
    "    return P   \n",
    "\n",
    "A=create_matrix(u,v)\n",
    "B=create_matrix(v,u)"
   ]
  },
  {
   "cell_type": "code",
   "execution_count": null,
   "metadata": {},
   "outputs": [],
   "source": [
    "def multiply_matrix(x,y,first,second):\n",
    "    F=[]\n",
    "    n=0\n",
    "    for i in range(x):\n",
    "        D=[]\n",
    "        sum=0\n",
    "        for j in range(y):\n",
    "            sum=sum+first[i][n]*second[j][i]\n",
    "            print(first[i][n],second[j][i])\n",
    "        D.append(sum)\n",
    "    n=n+1\n",
    "    F.append(D)\n",
    "    return F"
   ]
  },
  {
   "cell_type": "markdown",
   "metadata": {},
   "source": [
    "print(multiply_matrix(u,v,A,B))"
   ]
  },
  {
   "cell_type": "code",
   "execution_count": 29,
   "metadata": {},
   "outputs": [
    {
     "name": "stdout",
     "output_type": "stream",
     "text": [
      "1 1\n",
      "1 3\n",
      "1 5\n",
      "3 2\n",
      "3 4\n",
      "3 3\n",
      "[[27]]\n"
     ]
    }
   ],
   "source": [
    "print(multiply_matrix(u,v,A,B))"
   ]
  },
  {
   "cell_type": "code",
   "execution_count": null,
   "metadata": {},
   "outputs": [],
   "source": []
  }
 ],
 "metadata": {
  "kernelspec": {
   "display_name": "Python 3",
   "language": "python",
   "name": "python3"
  },
  "language_info": {
   "codemirror_mode": {
    "name": "ipython",
    "version": 3
   },
   "file_extension": ".py",
   "mimetype": "text/x-python",
   "name": "python",
   "nbconvert_exporter": "python",
   "pygments_lexer": "ipython3",
   "version": "3.6.4"
  }
 },
 "nbformat": 4,
 "nbformat_minor": 2
}
