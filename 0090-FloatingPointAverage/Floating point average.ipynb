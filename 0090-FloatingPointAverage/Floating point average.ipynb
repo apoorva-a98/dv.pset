{
 "cells": [
  {
   "cell_type": "code",
   "execution_count": 5,
   "metadata": {},
   "outputs": [
    {
     "name": "stdout",
     "output_type": "stream",
     "text": [
      "Enter 10 floating point inputs with a space\n",
      "2.34 4.74 6.645\n",
      "2.34\n",
      "7.08\n",
      "13.725\n"
     ]
    },
    {
     "data": {
      "text/plain": [
       "4.575"
      ]
     },
     "execution_count": 5,
     "metadata": {},
     "output_type": "execute_result"
    }
   ],
   "source": [
    "print(\"Enter 10 floating point inputs with a space\")\n",
    "items=input().split(\" \")\n",
    "A=[float(i) for i in items]\n",
    "\n",
    "def sum_items(X):\n",
    "    sum=0\n",
    "    for i in range(len(X)):\n",
    "        sum=sum+A[i]\n",
    "        print(sum)\n",
    "    return sum\n",
    "\n",
    "def avg_items(X):\n",
    "    s=sum_items(X)\n",
    "    average=s/len(X)\n",
    "    return average\n",
    "\n",
    "avg_items(A)\n",
    "\n",
    "    \n",
    "    "
   ]
  },
  {
   "cell_type": "code",
   "execution_count": null,
   "metadata": {},
   "outputs": [],
   "source": []
  }
 ],
 "metadata": {
  "kernelspec": {
   "display_name": "Python 3",
   "language": "python",
   "name": "python3"
  },
  "language_info": {
   "codemirror_mode": {
    "name": "ipython",
    "version": 3
   },
   "file_extension": ".py",
   "mimetype": "text/x-python",
   "name": "python",
   "nbconvert_exporter": "python",
   "pygments_lexer": "ipython3",
   "version": "3.6.4"
  }
 },
 "nbformat": 4,
 "nbformat_minor": 2
}
